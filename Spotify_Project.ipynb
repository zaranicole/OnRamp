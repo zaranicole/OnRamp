{
 "cells": [
  {
   "cell_type": "markdown",
   "id": "59c11157-739e-4cdd-985c-472b153fdb91",
   "metadata": {
    "tags": []
   },
   "source": [
    "# Spotify Project: Vanguard"
   ]
  },
  {
   "cell_type": "markdown",
   "id": "6ec4db8d-4299-4761-b7c9-a8050ea29882",
   "metadata": {},
   "source": [
    "Zara Saldanha"
   ]
  },
  {
   "cell_type": "code",
   "execution_count": 1,
   "id": "4649a739-1dc5-4b33-b804-ee00b2b3b9b8",
   "metadata": {},
   "outputs": [],
   "source": [
    "# If you would like to use different artists, please edit artist_list below and restart the whole notebook \n",
    "artist_list = ['Elvis Presley',\n",
    "           'Post Malone',\n",
    "           'Kanye West',\n",
    "           'Drake',\n",
    "           'Red Hot Chili Peppers',\n",
    "           'The Weeknd',\n",
    "           'Machine Gun Kelly',\n",
    "           'Cardi B',\n",
    "           'Billie Eilish',\n",
    "           'Juice WRLD',\n",
    "           'Queen',\n",
    "           'Lenny Kravitz',\n",
    "           'Elton John',\n",
    "           'Tom Petty',\n",
    "           'Led Zeppelin',\n",
    "           'Bon Jovi',\n",
    "           'Prince',\n",
    "           'Michael Jackson',\n",
    "           'AC/DC',\n",
    "           'Flume']"
   ]
  },
  {
   "cell_type": "markdown",
   "id": "d2aac363-8919-4001-b084-7c8a144e2a8f",
   "metadata": {
    "tags": []
   },
   "source": [
    "## Part 1: Ingestion"
   ]
  },
  {
   "cell_type": "markdown",
   "id": "6ca4ff12-1447-432e-8eca-38faa108976c",
   "metadata": {
    "tags": []
   },
   "source": [
    "### Import Statements"
   ]
  },
  {
   "cell_type": "code",
   "execution_count": 2,
   "id": "231bf5a0-7ed7-43dc-9809-88988734c958",
   "metadata": {},
   "outputs": [],
   "source": [
    "import spotipy\n",
    "import pandas as pd\n",
    "import numpy as np\n",
    "from pprint import pprint\n",
    "import sys\n",
    "import os\n",
    "from spotipy.oauth2 import SpotifyClientCredentials\n",
    "import sqlite3\n",
    "from sqlalchemy import create_engine\n",
    "from sqlite3 import Error"
   ]
  },
  {
   "cell_type": "markdown",
   "id": "31cce768-f49c-47e6-be41-33b7c9023438",
   "metadata": {
    "tags": []
   },
   "source": [
    "### Set up Credentials"
   ]
  },
  {
   "cell_type": "code",
   "execution_count": 3,
   "id": "fd3ed02d-90fd-4746-9f4b-7963022c49f5",
   "metadata": {},
   "outputs": [],
   "source": [
    "## go back and create config files or declare environment vars in terminal\n",
    "os.environ[\"SPOTIPY_CLIENT_ID\"] = \"66ea1fd086944db888acdbf371ebfda1\"\n",
    "os.environ[\"SPOTIPY_CLIENT_SECRET\"] = \"8e6033fc4bab4c0ea99e9a79f7743a21\"\n",
    "spotify = spotipy.Spotify(client_credentials_manager=SpotifyClientCredentials())"
   ]
  },
  {
   "cell_type": "markdown",
   "id": "854e0ce8-1540-4a7c-83f8-8ab3dfea517b",
   "metadata": {
    "tags": []
   },
   "source": [
    "### Create Table Functions"
   ]
  },
  {
   "cell_type": "code",
   "execution_count": 4,
   "id": "044991e2-5c45-42ce-bf54-7935011c1f20",
   "metadata": {},
   "outputs": [],
   "source": [
    "# input: list of artists as strings\n",
    "# output: artist dataframe\n",
    "\n",
    "def create_artist_df(artist_list):\n",
    "    artists_df = pd.DataFrame()\n",
    "    \n",
    "    for artist in artist_list:\n",
    "        results = spotify.search(q=artist, type='artist')\n",
    "        items = results['artists']['items']\n",
    "\n",
    "\n",
    "        if len(items) > 0:\n",
    "            artist = items[0]\n",
    "            artist_data = {'artist_id': artist['id'],\n",
    "                   'artist_name': artist['name'],\n",
    "                   'external_url': artist['external_urls']['spotify'],\n",
    "                   'genre': artist['genres'],\n",
    "                   'image_url': artist['images'][0]['url'],\n",
    "                   'followers': artist['followers']['total'],\n",
    "                   'popularity': artist['popularity'],\n",
    "                   'type': artist['type'],\n",
    "                   'artist_uri': artist['uri']}\n",
    "            df = pd.DataFrame(artist_data)\n",
    "            artists_df=pd.concat([artists_df,df.iloc[:1]],ignore_index=True)\n",
    "    return artists_df\n",
    "\n",
    "# input: list of artist IDs as strings\n",
    "# output: album dataframe\n",
    "\n",
    "def create_album_df(artist_ids):\n",
    "    \n",
    "    albums_df=pd.DataFrame()\n",
    "    #album_ids=[]\n",
    "    \n",
    "    for artist_id in artist_ids:\n",
    "        results = spotify.artist_albums(artist_id, country='US', limit=20)\n",
    "\n",
    "        #albums_df = pd.DataFrame(columns = ['album_id', 'album_name', 'external_url','image_url','release_date', 'total_tracks','type','album_uri','artist_id'])\n",
    "        items = results['items']\n",
    "        album_prev=items[0]['name']\n",
    "        i=0\n",
    "\n",
    "        while i < len(items):\n",
    "            album = items[i]\n",
    "            if album['name'] == album_prev:\n",
    "                i+=1\n",
    "                pass\n",
    "            else:\n",
    "                album_data = {'album_id': [album['id']],\n",
    "                          'album_name': [album['name']],\n",
    "                          'external_url': [album['external_urls']['spotify']],\n",
    "                          'image_url': [album['images'][0]['url']], \n",
    "                          'release_date': [album['release_date']],\n",
    "                         'total_tracks': [album['total_tracks']],\n",
    "                         'type': [album['type']],\n",
    "                         'album_uri': [album['uri']],\n",
    "                         'artist_id': [album['artists'][0]['id']]}\n",
    "                album_df = pd.DataFrame(album_data)\n",
    "               # album_ids.append(album['id'])\n",
    "                albums_df=pd.concat([albums_df,album_df],ignore_index=True)\n",
    "                album_prev=album['name']\n",
    "                i+=1 \n",
    "                \n",
    "    return albums_df\n",
    "\n",
    "# input: list of album IDs as strings\n",
    "# output: tracks dataframe\n",
    "\n",
    "def create_tracks_df(album_ids):\n",
    "\n",
    "    album_tracks = pd.DataFrame()\n",
    "\n",
    "    for album_id in album_ids:\n",
    "        results = spotify.album_tracks(album_id)\n",
    "        items = results['items']\n",
    "        i=0\n",
    "\n",
    "        while i < len(items):\n",
    "            track = items[i]\n",
    "            track_data = {'track_id': [track['id']],\n",
    "                      'song_name': [track['name']],\n",
    "                      'external_url': [track['external_urls']['spotify']],\n",
    "                      'duration_ms': [track['duration_ms']], \n",
    "                      'explicit': [track['explicit']],\n",
    "                     'disc_number': [track['disc_number']],\n",
    "                     'type': [track['type']],\n",
    "                     'song_uri': [track['uri']],\n",
    "                     'album_id': album_id }\n",
    "            track_df = pd.DataFrame(track_data)\n",
    "            album_tracks=pd.concat([album_tracks,track_df],ignore_index=True)\n",
    "            i+=1\n",
    "    return album_tracks\n",
    "\n",
    "# input: list of track IDs as strings\n",
    "# output: track features dataframe\n",
    "\n",
    "def create_features_df(track_id_list):\n",
    "    track_df = pd.DataFrame()\n",
    "    num_tracks = len(track_id_list)\n",
    "    num_loop = num_tracks//100\n",
    "    num_remainder = num_tracks%100\n",
    "    \n",
    "    x=0\n",
    "    \n",
    "    while x< num_loop*100:\n",
    "        results = spotify.audio_features(track_id_list[x:x+100])\n",
    "        cols = ['id','danceability','energy','instrumentalness','liveness','loudness','speechiness','tempo','type','uri']\n",
    "        track_features=pd.DataFrame(results)[cols]\n",
    "        track_df=pd.concat([track_df,track_features],ignore_index=True)\n",
    "        x=x+100\n",
    "    \n",
    "    if num_remainder != 0:\n",
    "        results = spotify.audio_features(track_id_list[x:x+num_remainder])\n",
    "        cols = ['id','danceability','energy','instrumentalness','liveness','loudness','speechiness','tempo','type','uri']\n",
    "        track_features=pd.DataFrame(results)[cols]\n",
    "        track_df=pd.concat([track_df,track_features],ignore_index=True)\n",
    "    \n",
    "    return track_df"
   ]
  },
  {
   "cell_type": "markdown",
   "id": "0e19e0ca-5c72-46df-8731-c08d8ea79531",
   "metadata": {},
   "source": [
    "### Combine into single function"
   ]
  },
  {
   "cell_type": "code",
   "execution_count": 5,
   "id": "78b77137-d441-439d-acb9-ddcc47fa343e",
   "metadata": {},
   "outputs": [],
   "source": [
    "def create_dataframes(artists):\n",
    "    artists = create_artist_df(artists)\n",
    "    albums = create_album_df(artists.artist_id.tolist())\n",
    "    tracks = create_tracks_df(albums.album_id.tolist())\n",
    "    track_features = create_features_df(tracks.track_id.tolist())\n",
    "    return artists,albums,tracks,track_features"
   ]
  },
  {
   "cell_type": "markdown",
   "id": "d84176d2-65cb-45bf-8b11-a35887c9e098",
   "metadata": {},
   "source": [
    "### Create Dataframes from Artist List"
   ]
  },
  {
   "cell_type": "code",
   "execution_count": 6,
   "id": "30397bfe-dd40-47ab-87e7-131558f3602c",
   "metadata": {},
   "outputs": [
    {
     "name": "stdout",
     "output_type": "stream",
     "text": [
      "CPU times: user 7.19 s, sys: 309 ms, total: 7.5 s\n",
      "Wall time: 56.2 s\n"
     ]
    }
   ],
   "source": [
    "%%time\n",
    "\n",
    "artists_df,albums_df,tracks_df,track_features_df = create_dataframes(artist_list)"
   ]
  },
  {
   "cell_type": "markdown",
   "id": "2bd5066d-0e6c-40a7-bd69-276a9d2a8b75",
   "metadata": {},
   "source": [
    "## Part 2: Transformation"
   ]
  },
  {
   "cell_type": "markdown",
   "id": "500542e2-a996-46a7-9dc6-ea588f95a55f",
   "metadata": {},
   "source": [
    "#### Check for Null Values"
   ]
  },
  {
   "cell_type": "code",
   "execution_count": 7,
   "id": "7bce3ce9-70ea-42b1-8258-1e97259ed646",
   "metadata": {},
   "outputs": [
    {
     "name": "stdout",
     "output_type": "stream",
     "text": [
      "False\n",
      "False\n",
      "False\n",
      "False\n"
     ]
    }
   ],
   "source": [
    "for i in artists_df,albums_df,tracks_df,track_features_df:\n",
    "    print(i.isna().all().all())"
   ]
  },
  {
   "cell_type": "code",
   "execution_count": 8,
   "id": "f19f5fec-5b4f-4a06-8463-782f3bb12fe6",
   "metadata": {},
   "outputs": [
    {
     "data": {
      "text/plain": [
       "'\\nartists.isna().sum()\\nalbums.isna().sum()\\ntracks.isna().sum()\\ntrack_features.isna().sum()\\n'"
      ]
     },
     "execution_count": 8,
     "metadata": {},
     "output_type": "execute_result"
    }
   ],
   "source": [
    "# uncomment if any of the above is True\n",
    "'''\n",
    "artists.isna().sum()\n",
    "albums.isna().sum()\n",
    "tracks.isna().sum()\n",
    "track_features.isna().sum()\n",
    "'''"
   ]
  },
  {
   "cell_type": "markdown",
   "id": "a8ca603e-7952-4643-9a7e-1623b9dab95b",
   "metadata": {},
   "source": [
    "#### Remove Duplicates"
   ]
  },
  {
   "cell_type": "code",
   "execution_count": 9,
   "id": "4a398913-4926-4103-ae61-11fcc76fb41d",
   "metadata": {},
   "outputs": [],
   "source": [
    "artists_df = artists_df.drop_duplicates()\n",
    "albums_df = albums_df.drop_duplicates()\n",
    "tracks_df = tracks_df.drop_duplicates()\n",
    "track_features_df = track_features_df.drop_duplicates()"
   ]
  },
  {
   "cell_type": "code",
   "execution_count": 10,
   "id": "332ca11e-8178-44e9-8a85-8dbcf3e7641a",
   "metadata": {},
   "outputs": [
    {
     "data": {
      "text/plain": [
       "'\\nduplicate = albums[albums.duplicated()]\\nduplicate\\n'"
      ]
     },
     "execution_count": 10,
     "metadata": {},
     "output_type": "execute_result"
    }
   ],
   "source": [
    "# Check duplicates if exists\n",
    "'''\n",
    "duplicate = albums[albums.duplicated()]\n",
    "duplicate\n",
    "'''"
   ]
  },
  {
   "cell_type": "markdown",
   "id": "67ec7b94-9d60-430f-874b-dd69b5181984",
   "metadata": {},
   "source": [
    "### Rename Columns"
   ]
  },
  {
   "cell_type": "code",
   "execution_count": 11,
   "id": "a24c0f8f-b57c-43cc-98fd-fbb46413cf18",
   "metadata": {},
   "outputs": [],
   "source": [
    "track_features_df.rename(columns = {'id':'track_id'}, inplace = True)\n",
    "track_features_df.rename(columns = {'uri':'song_uri'}, inplace = True)"
   ]
  },
  {
   "cell_type": "markdown",
   "id": "2d197f34-1a46-4392-894c-a6aa01ef0f8b",
   "metadata": {
    "tags": []
   },
   "source": [
    "## Part 3: Storage"
   ]
  },
  {
   "cell_type": "code",
   "execution_count": 12,
   "id": "9227505f-d305-43a4-ac6d-54f19e510993",
   "metadata": {},
   "outputs": [],
   "source": [
    "# https://www.sqlitetutorial.net/sqlite-python/creating-tables/\n",
    "\n",
    "import sqlite3\n",
    "from sqlite3 import Error\n",
    "\n",
    "def drop_table(conn, drop_table_sql):\n",
    "    try:\n",
    "        c = conn.cursor()\n",
    "        c.execute(drop_table_sql)\n",
    "    except Error as e:\n",
    "        print(e)\n",
    "\n",
    "\n",
    "def create_connection(db_file):\n",
    "    \"\"\" create a database connection to the SQLite database\n",
    "        specified by db_file\n",
    "    :param db_file: database file\n",
    "    :return: Connection object or None\n",
    "    \"\"\"\n",
    "    conn = None\n",
    "    try:\n",
    "        conn = sqlite3.connect(db_file)\n",
    "        return conn\n",
    "    except Error as e:\n",
    "        print(e)\n",
    "\n",
    "    return conn\n",
    "\n",
    "\n",
    "def create_table(conn, create_table_sql):\n",
    "    \"\"\" create a table from the create_table_sql statement\n",
    "    :param conn: Connection object\n",
    "    :param create_table_sql: a CREATE TABLE statement\n",
    "    :return:\n",
    "    \"\"\"\n",
    "    try:\n",
    "        c = conn.cursor()\n",
    "        c.execute(create_table_sql)\n",
    "    except Error as e:\n",
    "        print(e)\n",
    "\n",
    "def main():\n",
    "    database = r\"spotify.db\"\n",
    "    \n",
    "    # Drop table queries\n",
    "    artist_table_drop = \"DROP table IF EXISTS artist\"\n",
    "    album_table_drop = \"DROP table IF EXISTS album\"\n",
    "    track_table_drop = \"DROP table IF EXISTS track\"\n",
    "    feature_table_drop = \"DROP table IF EXISTS track_feature\"\n",
    "    \n",
    "    \n",
    "    # Create artist table query\n",
    "    artist_table_create = (\"\"\"CREATE TABLE IF NOT EXISTS artist\n",
    "                         (artist_id text PRIMARY KEY,\n",
    "                         artist_name text,\n",
    "                         external_url text,\n",
    "                         genre text,\n",
    "                         image_url text,\n",
    "                         followers integer,\n",
    "                         popularity integer,\n",
    "                         type TEXT,\n",
    "                         artist_uri text )\"\"\")\n",
    "\n",
    "    # Create album table query\n",
    "    album_table_create = (\"\"\"CREATE TABLE IF NOT EXISTS album\n",
    "                     (album_id text PRIMARY KEY,\n",
    "                     album_name text,\n",
    "                     external_url text,\n",
    "                     image_url text,\n",
    "                     release_date numeric,\n",
    "                     total_tracks integer,\n",
    "                     type text,\n",
    "                     album_uri text,\n",
    "                     artist_id text)\"\"\")\n",
    "\n",
    "    # Create track table query\n",
    "    track_table_create = (\"\"\"CREATE TABLE IF NOT EXISTS track\n",
    "                     (track_id text PRIMARY KEY,\n",
    "                     song_name text,\n",
    "                     external_url text,\n",
    "                     duration_ms integer,\n",
    "                     explicit numeric,\n",
    "                     disc_number integer,\n",
    "                     type text,\n",
    "                     song_uri text,\n",
    "                     album_id text)\"\"\")\n",
    "\n",
    "    # Create track_feature table query\n",
    "    feature_table_create = (\"\"\"CREATE TABLE IF NOT EXISTS track_feature\n",
    "                       (track_id text PRIMARY KEY,\n",
    "                       danceability real,\n",
    "                       energy real,\n",
    "                       instrumentalness real,\n",
    "                       liveness real,\n",
    "                       loudness real,\n",
    "                       speechiness real,\n",
    "                       tempo real,\n",
    "                       type text,\n",
    "                       valence real,\n",
    "                       song_uri text)\"\"\")\n",
    "    \n",
    "    # create a database connection\n",
    "    conn = create_connection(database)\n",
    "\n",
    "    # create tables\n",
    "    if conn is not None:\n",
    "        \n",
    "        #drop tables\n",
    "        drop_table(conn, artist_table_drop)\n",
    "        drop_table(conn, album_table_drop)\n",
    "        drop_table(conn, track_table_drop)\n",
    "        drop_table(conn, feature_table_drop)\n",
    "        \n",
    "        # create artist table\n",
    "        create_table(conn, artist_table_create)\n",
    "\n",
    "        # create album table\n",
    "        create_table(conn, album_table_create)\n",
    "        \n",
    "        # create track table\n",
    "        create_table(conn, track_table_create)\n",
    "        \n",
    "        # create track feature table\n",
    "        create_table(conn, feature_table_create)\n",
    "        \n",
    "    else:\n",
    "        print(\"Error! cannot create the database connection.\")\n",
    "\n",
    "\n",
    "if __name__ == '__main__':\n",
    "    main()"
   ]
  },
  {
   "cell_type": "code",
   "execution_count": 13,
   "id": "7e293f2f-e497-408a-9b27-95f3814aef78",
   "metadata": {},
   "outputs": [
    {
     "data": {
      "text/plain": [
       "'\\ndatabase = r\"spotify.db\"\\nconn = create_connection(database)\\nc = conn.cursor()\\nc.execute(\"SELECT * FROM artist\")\\nquery = \"select * from artist\"\\ndf = pd.read_sql_query(query, conn)\\ndf\\n'"
      ]
     },
     "execution_count": 13,
     "metadata": {},
     "output_type": "execute_result"
    }
   ],
   "source": [
    "# uncomment to check if table is empty\n",
    "'''\n",
    "database = r\"spotify.db\"\n",
    "conn = create_connection(database)\n",
    "c = conn.cursor()\n",
    "c.execute(\"SELECT * FROM artist\")\n",
    "query = \"select * from artist\"\n",
    "df = pd.read_sql_query(query, conn)\n",
    "df\n",
    "'''"
   ]
  },
  {
   "cell_type": "code",
   "execution_count": 14,
   "id": "126d48de-186c-4df9-a775-fdc7b8fac81f",
   "metadata": {},
   "outputs": [
    {
     "data": {
      "text/plain": [
       "4481"
      ]
     },
     "execution_count": 14,
     "metadata": {},
     "output_type": "execute_result"
    }
   ],
   "source": [
    "engine = create_engine('sqlite:///spotify.db', echo=False)\n",
    "artists_df.to_sql('artist', con=engine, if_exists='append',index=False)\n",
    "albums_df.to_sql('album', con=engine, if_exists='append', index=False)\n",
    "tracks_df.to_sql('track', con=engine, if_exists='append', index=False)\n",
    "track_features_df.to_sql('track_feature', con=engine, if_exists='append', index=False)"
   ]
  },
  {
   "cell_type": "markdown",
   "id": "1b071908-4ac7-4936-8d65-ac1ff2e13adf",
   "metadata": {},
   "source": [
    "## Part 4: Analytics and Visualization"
   ]
  },
  {
   "cell_type": "markdown",
   "id": "9d511ee6-3170-4a2c-afb2-f4e339a2323f",
   "metadata": {},
   "source": [
    "### Create Views"
   ]
  },
  {
   "cell_type": "code",
   "execution_count": 15,
   "id": "9c1bd7a5-7ab3-4618-be4d-d900f6e03417",
   "metadata": {},
   "outputs": [
    {
     "data": {
      "text/plain": [
       "<sqlite3.Cursor at 0x7ff16a6c9420>"
      ]
     },
     "execution_count": 15,
     "metadata": {},
     "output_type": "execute_result"
    }
   ],
   "source": [
    "# View 1: Top songs by artist in terms of duration_ms\n",
    "# Top 10 longest songs on Spotify for each artist ordered by duration_ms descending\n",
    "\n",
    "database = r\"spotify.db\"\n",
    "conn = create_connection(database)\n",
    "\n",
    "drop_query = '''\n",
    "DROP VIEW IF EXISTS top_songs_duration;\n",
    "'''\n",
    "c = conn.cursor()\n",
    "c.execute(drop_query)\n",
    "\n",
    "query = '''\n",
    "CREATE VIEW top_songs_duration\n",
    "AS\n",
    "\n",
    "WITH top_songs AS (\n",
    "SELECT song_name, track_id, artist_name, c.artist_id, album_name, b.album_id, duration_ms,\n",
    "row_number() over (partition by artist_name order by duration_ms desc) as duration_rank\n",
    "FROM\n",
    "track a LEFT JOIN album b\n",
    "ON a.album_id=b.album_id\n",
    "LEFT JOIN artist c\n",
    "ON b.artist_id = c.artist_id\n",
    "ORDER BY artist_name\n",
    ")\n",
    "\n",
    "SELECT song_name, track_id, artist_name, artist_id, album_name, album_id, duration_ms, duration_rank\n",
    "FROM top_songs\n",
    "WHERE duration_rank <= 10\n",
    "and artist_name <> 'None'\n",
    "ORDER BY duration_ms DESC\n",
    "'''\n",
    "\n",
    "c = conn.cursor()\n",
    "c.execute(drop_query)\n",
    "c.execute(query)"
   ]
  },
  {
   "cell_type": "code",
   "execution_count": 16,
   "id": "9fb3167b-fb17-4749-bc12-bc4fde76d3bb",
   "metadata": {},
   "outputs": [
    {
     "data": {
      "text/plain": [
       "<sqlite3.Cursor at 0x7ff16a6c9180>"
      ]
     },
     "execution_count": 16,
     "metadata": {},
     "output_type": "execute_result"
    }
   ],
   "source": [
    "# View 2: Top artists by # of followers\n",
    "\n",
    "database = r\"spotify.db\"\n",
    "conn = create_connection(database)\n",
    "\n",
    "drop_query = '''\n",
    "DROP VIEW IF EXISTS top_artists;\n",
    "'''\n",
    "c = conn.cursor()\n",
    "c.execute(drop_query)\n",
    "\n",
    "query = '''\n",
    "CREATE VIEW top_artists\n",
    "AS\n",
    "SELECT *\n",
    "FROM\n",
    "artist\n",
    "ORDER BY followers DESC\n",
    "'''\n",
    "\n",
    "c = conn.cursor()\n",
    "c.execute(drop_query)\n",
    "c.execute(query)"
   ]
  },
  {
   "cell_type": "code",
   "execution_count": 17,
   "id": "05b2b724-9c70-4b21-8fd7-84f57c6e236b",
   "metadata": {},
   "outputs": [
    {
     "data": {
      "text/plain": [
       "<sqlite3.Cursor at 0x7ff1280419d0>"
      ]
     },
     "execution_count": 17,
     "metadata": {},
     "output_type": "execute_result"
    }
   ],
   "source": [
    "# View 3: Top songs by artist in terms of tempo\n",
    "\n",
    "database = r\"spotify.db\"\n",
    "conn = create_connection(database)\n",
    "\n",
    "drop_query = '''\n",
    "DROP VIEW IF EXISTS top_songs_tempo;\n",
    "'''\n",
    "c = conn.cursor()\n",
    "c.execute(drop_query)\n",
    "\n",
    "query = '''\n",
    "CREATE VIEW top_songs_tempo\n",
    "AS\n",
    "\n",
    "WITH top_songs AS (\n",
    "SELECT song_name, t.track_id, artist_name, c.artist_id, album_name, b.album_id, tempo,\n",
    "row_number() over (partition by artist_name order by tempo desc) as tempo_rank\n",
    "FROM\n",
    "track_feature t LEFT JOIN track a\n",
    "ON t.track_id = a.track_id\n",
    "LEFT JOIN album b\n",
    "ON a.album_id=b.album_id\n",
    "LEFT JOIN artist c\n",
    "ON b.artist_id = c.artist_id\n",
    "ORDER BY tempo DESC\n",
    ")\n",
    "\n",
    "SELECT song_name, track_id, artist_name, artist_id, album_name, album_id, tempo, tempo_rank\n",
    "FROM top_songs\n",
    "WHERE tempo_rank <= 10\n",
    "and artist_name <> 'None'\n",
    "ORDER BY tempo DESC\n",
    "'''\n",
    "\n",
    "c = conn.cursor()\n",
    "c.execute(drop_query)\n",
    "c.execute(query)"
   ]
  },
  {
   "cell_type": "code",
   "execution_count": 18,
   "id": "76c1ebaf-0876-44b5-a511-24d75c9066be",
   "metadata": {},
   "outputs": [
    {
     "data": {
      "text/plain": [
       "<sqlite3.Cursor at 0x7ff128041c70>"
      ]
     },
     "execution_count": 18,
     "metadata": {},
     "output_type": "execute_result"
    }
   ],
   "source": [
    "# View 4: Top artists by number of explicit songs\n",
    "\n",
    "database = r\"spotify.db\"\n",
    "conn = create_connection(database)\n",
    "\n",
    "drop_query = '''\n",
    "DROP VIEW IF EXISTS top_artists_explicit;\n",
    "'''\n",
    "c = conn.cursor()\n",
    "c.execute(drop_query)\n",
    "\n",
    "query = '''\n",
    "CREATE VIEW top_artists_explicit\n",
    "AS\n",
    "\n",
    "SELECT artist_name, c.artist_id, sum(explicit) as explicit_songs\n",
    "FROM\n",
    "track_feature t LEFT JOIN track a\n",
    "ON t.track_id = a.track_id\n",
    "LEFT JOIN album b\n",
    "ON a.album_id=b.album_id\n",
    "LEFT JOIN artist c\n",
    "ON b.artist_id = c.artist_id\n",
    "GROUP BY artist_name\n",
    "ORDER BY explicit_songs DESC\n",
    "\n",
    "'''\n",
    "\n",
    "c = conn.cursor()\n",
    "c.execute(drop_query)\n",
    "c.execute(query)"
   ]
  },
  {
   "cell_type": "code",
   "execution_count": 19,
   "id": "94c82dde-3850-4180-8213-5ea98d48f5ce",
   "metadata": {},
   "outputs": [
    {
     "data": {
      "text/plain": [
       "<sqlite3.Cursor at 0x7ff128041a40>"
      ]
     },
     "execution_count": 19,
     "metadata": {},
     "output_type": "execute_result"
    }
   ],
   "source": [
    "# View 5: Top albums by number of songs\n",
    "\n",
    "database = r\"spotify.db\"\n",
    "conn = create_connection(database)\n",
    "\n",
    "drop_query = '''\n",
    "DROP VIEW IF EXISTS top_albums;\n",
    "'''\n",
    "c = conn.cursor()\n",
    "c.execute(drop_query)\n",
    "\n",
    "query = '''\n",
    "CREATE VIEW top_albums\n",
    "AS\n",
    "SELECT album_name, b.album_id, artist_name, c.artist_id,  count(t.track_id) as num_songs\n",
    "FROM\n",
    "track_feature t LEFT JOIN track a\n",
    "ON t.track_id = a.track_id\n",
    "LEFT JOIN album b\n",
    "ON a.album_id=b.album_id\n",
    "LEFT JOIN artist c\n",
    "ON b.artist_id = c.artist_id\n",
    "GROUP BY album_name\n",
    "ORDER BY num_songs DESC\n",
    "\n",
    "'''\n",
    "\n",
    "c = conn.cursor()\n",
    "c.execute(drop_query)\n",
    "c.execute(query)"
   ]
  },
  {
   "cell_type": "code",
   "execution_count": 20,
   "id": "d0e78147-9144-4d25-9692-28e3bcc40ffe",
   "metadata": {},
   "outputs": [
    {
     "data": {
      "text/plain": [
       "<sqlite3.Cursor at 0x7ff128041c00>"
      ]
     },
     "execution_count": 20,
     "metadata": {},
     "output_type": "execute_result"
    }
   ],
   "source": [
    "# View 6: 'Live' songs\n",
    "\n",
    "database = r\"spotify.db\"\n",
    "conn = create_connection(database)\n",
    "\n",
    "drop_query = '''\n",
    "DROP VIEW IF EXISTS live_songs;\n",
    "'''\n",
    "c = conn.cursor()\n",
    "c.execute(drop_query)\n",
    "\n",
    "query = '''\n",
    "CREATE VIEW live_songs\n",
    "AS\n",
    "SELECT song_name, t.track_id, artist_name, c.artist_id, album_name, b.album_id\n",
    "FROM\n",
    "track_feature t LEFT JOIN track a\n",
    "ON t.track_id = a.track_id\n",
    "LEFT JOIN album b\n",
    "ON a.album_id=b.album_id\n",
    "LEFT JOIN artist c\n",
    "ON b.artist_id = c.artist_id\n",
    "WHERE song_name LIKE '%live%'\n",
    "and artist_name <> 'None'\n",
    "ORDER BY artist_name\n",
    "\n",
    "'''\n",
    "\n",
    "c = conn.cursor()\n",
    "c.execute(drop_query)\n",
    "c.execute(query)"
   ]
  },
  {
   "cell_type": "code",
   "execution_count": 21,
   "id": "ac641981-963f-4b8a-a709-d258447c5a2c",
   "metadata": {},
   "outputs": [
    {
     "data": {
      "text/plain": [
       "<sqlite3.Cursor at 0x7ff128023260>"
      ]
     },
     "execution_count": 21,
     "metadata": {},
     "output_type": "execute_result"
    }
   ],
   "source": [
    "# View 7: 'Remastered' songs\n",
    "\n",
    "database = r\"spotify.db\"\n",
    "conn = create_connection(database)\n",
    "\n",
    "drop_query = '''\n",
    "DROP VIEW IF EXISTS remastered_songs;\n",
    "'''\n",
    "c = conn.cursor()\n",
    "c.execute(drop_query)\n",
    "\n",
    "query = '''\n",
    "CREATE VIEW remastered_songs\n",
    "AS\n",
    "SELECT song_name, t.track_id, artist_name, c.artist_id, album_name, b.album_id\n",
    "FROM\n",
    "track_feature t LEFT JOIN track a\n",
    "ON t.track_id = a.track_id\n",
    "LEFT JOIN album b\n",
    "ON a.album_id=b.album_id\n",
    "LEFT JOIN artist c\n",
    "ON b.artist_id = c.artist_id\n",
    "WHERE song_name LIKE '%remaster%'\n",
    "and artist_name <> 'None'\n",
    "ORDER BY artist_name\n",
    "\n",
    "'''\n",
    "\n",
    "c = conn.cursor()\n",
    "c.execute(drop_query)\n",
    "c.execute(query)"
   ]
  },
  {
   "cell_type": "code",
   "execution_count": 22,
   "id": "70976744-a876-48e6-9516-85205f8fe805",
   "metadata": {},
   "outputs": [
    {
     "data": {
      "text/plain": [
       "<sqlite3.Cursor at 0x7ff128041f10>"
      ]
     },
     "execution_count": 22,
     "metadata": {},
     "output_type": "execute_result"
    }
   ],
   "source": [
    "# View 8: All dataframes joined\n",
    "\n",
    "database = r\"spotify.db\"\n",
    "conn = create_connection(database)\n",
    "\n",
    "drop_query = '''\n",
    "DROP VIEW IF EXISTS full;\n",
    "'''\n",
    "c = conn.cursor()\n",
    "c.execute(drop_query)\n",
    "\n",
    "query = '''\n",
    "CREATE VIEW full\n",
    "AS\n",
    "SELECT *\n",
    "FROM\n",
    "track_feature t LEFT JOIN track a\n",
    "ON t.track_id = a.track_id\n",
    "LEFT JOIN album b\n",
    "ON a.album_id=b.album_id\n",
    "LEFT JOIN artist c\n",
    "ON b.artist_id = c.artist_id\n",
    "WHERE artist_name <> 'None'\n",
    "ORDER BY artist_name\n",
    "'''\n",
    "\n",
    "c = conn.cursor()\n",
    "c.execute(drop_query)\n",
    "c.execute(query)"
   ]
  },
  {
   "cell_type": "markdown",
   "id": "68b2deb7-4dcf-4c46-a2c5-2d8a6f6ba9c0",
   "metadata": {},
   "source": [
    "## Visualizations"
   ]
  },
  {
   "cell_type": "code",
   "execution_count": 23,
   "id": "07934753-b302-454d-842e-67355c8473c9",
   "metadata": {},
   "outputs": [],
   "source": [
    "import seaborn as sns"
   ]
  },
  {
   "cell_type": "code",
   "execution_count": 24,
   "id": "093c4b67-8557-4e2f-801d-80d7c18fd438",
   "metadata": {},
   "outputs": [],
   "source": [
    "query = '''\n",
    "SELECT *\n",
    "FROM\n",
    "full\n",
    "'''\n",
    "\n",
    "full_df = pd.read_sql_query(query, conn)"
   ]
  },
  {
   "cell_type": "code",
   "execution_count": 25,
   "id": "c4860b81-d8e6-4e2d-b218-aee1e8299e3c",
   "metadata": {},
   "outputs": [
    {
     "data": {
      "text/plain": [
       "<seaborn.axisgrid.FacetGrid at 0x7ff179439070>"
      ]
     },
     "execution_count": 25,
     "metadata": {},
     "output_type": "execute_result"
    },
    {
     "data": {
      "image/png": "[encoded data removed]",
      "text/plain": [
       "<Figure size 2160x720 with 1 Axes>"
      ]
     },
     "metadata": {},
     "output_type": "display_data"
    }
   ],
   "source": [
    "sns.set(rc = {'figure.figsize':(15,8)})\n",
    "with sns.axes_style('white'):\n",
    "    g = sns.catplot(x=\"artist_name\", data=full_df, height=10, aspect=3,\n",
    "                       kind=\"count\", color='steelblue')\n",
    "\n",
    "g.set_axis_labels(\"Artist\", \"Number of Songs\")\n",
    "g.set_titles(\"Number of Songs per Artist\")"
   ]
  },
  {
   "cell_type": "code",
   "execution_count": 26,
   "id": "80702c37-fe8f-484e-8cad-87d085395c86",
   "metadata": {},
   "outputs": [],
   "source": [
    "query = '''\n",
    "SELECT track_id, song_name, duration_ms, artist_name, artist_id, danceability, energy, instrumentalness, liveness, loudness, speechiness, tempo\n",
    "FROM\n",
    "full\n",
    "'''\n",
    "\n",
    "df = pd.read_sql_query(query, conn)"
   ]
  },
  {
   "cell_type": "code",
   "execution_count": 27,
   "id": "b9991ca1-2e0c-42e0-a5e4-11ef072ae5f4",
   "metadata": {},
   "outputs": [
    {
     "data": {
      "text/plain": [
       "Text(0.5, 1.0, 'Correlation Matrix for Audio Features')"
      ]
     },
     "execution_count": 27,
     "metadata": {},
     "output_type": "execute_result"
    },
    {
     "data": {
      "image/png": "[encoded data removed]",
      "text/plain": [
       "<Figure size 1080x576 with 2 Axes>"
      ]
     },
     "metadata": {},
     "output_type": "display_data"
    }
   ],
   "source": [
    "ax = sns.heatmap(df.corr(), annot=True)\n",
    "ax.set_title(\"Correlation Matrix for Audio Features\")"
   ]
  },
  {
   "cell_type": "code",
   "execution_count": 28,
   "id": "791a4ab7-be0b-4a3d-851f-06f2efb16b0a",
   "metadata": {},
   "outputs": [
    {
     "data": {
      "image/png": "[encoded data removed]",
      "text/plain": [
       "<Figure size 432x432 with 3 Axes>"
      ]
     },
     "metadata": {},
     "output_type": "display_data"
    }
   ],
   "source": [
    "# Viz 4\n",
    "\n",
    "with sns.axes_style('white'):\n",
    "    sns.jointplot(x=\"energy\", y=\"loudness\", data=df, kind='hex')"
   ]
  },
  {
   "cell_type": "code",
   "execution_count": 29,
   "id": "27b691cd-e871-4668-aba4-ee532f3a9a34",
   "metadata": {},
   "outputs": [
    {
     "data": {
      "image/png": "[encoded data removed]",
      "text/plain": [
       "<Figure size 432x432 with 3 Axes>"
      ]
     },
     "metadata": {},
     "output_type": "display_data"
    }
   ],
   "source": [
    "with sns.axes_style('white'):\n",
    "    sns.jointplot(x=\"liveness\", y=\"danceability\", data=df, kind='hex')"
   ]
  }
 ],
 "metadata": {
  "kernelspec": {
   "display_name": "Python 3 (ipykernel)",
   "language": "python",
   "name": "python3"
  },
  "language_info": {
   "codemirror_mode": {
    "name": "ipython",
    "version": 3
   },
   "file_extension": ".py",
   "mimetype": "text/x-python",
   "name": "python",
   "nbconvert_exporter": "python",
   "pygments_lexer": "ipython3",
   "version": "3.9.12"
  }
 },
 "nbformat": 4,
 "nbformat_minor": 5
}
